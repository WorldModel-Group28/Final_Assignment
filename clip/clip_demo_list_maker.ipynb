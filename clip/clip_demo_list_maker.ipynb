{
 "cells": [
  {
   "cell_type": "code",
   "execution_count": 1,
   "metadata": {},
   "outputs": [
    {
     "name": "stdout",
     "output_type": "stream",
     "text": [
      "Requirement already satisfied: beautifulsoup4 in /home/kako/anaconda3/envs/myenv/lib/python3.9/site-packages (4.12.3)\n",
      "Requirement already satisfied: soupsieve>1.2 in /home/kako/anaconda3/envs/myenv/lib/python3.9/site-packages (from beautifulsoup4) (2.5)\n"
     ]
    }
   ],
   "source": [
    "!pip install beautifulsoup4\n"
   ]
  },
  {
   "cell_type": "code",
   "execution_count": 2,
   "metadata": {},
   "outputs": [
    {
     "name": "stdout",
     "output_type": "stream",
     "text": [
      "Requirement already satisfied: selenium in /home/kako/anaconda3/envs/myenv/lib/python3.9/site-packages (4.17.2)\n",
      "Requirement already satisfied: urllib3<3,>=1.26 in /home/kako/anaconda3/envs/myenv/lib/python3.9/site-packages (from urllib3[socks]<3,>=1.26->selenium) (2.2.0)\n",
      "Requirement already satisfied: trio~=0.17 in /home/kako/anaconda3/envs/myenv/lib/python3.9/site-packages (from selenium) (0.24.0)\n",
      "Requirement already satisfied: trio-websocket~=0.9 in /home/kako/anaconda3/envs/myenv/lib/python3.9/site-packages (from selenium) (0.11.1)\n",
      "Requirement already satisfied: certifi>=2021.10.8 in /home/kako/anaconda3/envs/myenv/lib/python3.9/site-packages (from selenium) (2023.11.17)\n",
      "Requirement already satisfied: typing_extensions>=4.9.0 in /home/kako/anaconda3/envs/myenv/lib/python3.9/site-packages (from selenium) (4.9.0)\n",
      "Requirement already satisfied: attrs>=20.1.0 in /home/kako/anaconda3/envs/myenv/lib/python3.9/site-packages (from trio~=0.17->selenium) (23.2.0)\n",
      "Requirement already satisfied: sortedcontainers in /home/kako/anaconda3/envs/myenv/lib/python3.9/site-packages (from trio~=0.17->selenium) (2.4.0)\n",
      "Requirement already satisfied: idna in /home/kako/anaconda3/envs/myenv/lib/python3.9/site-packages (from trio~=0.17->selenium) (3.6)\n",
      "Requirement already satisfied: outcome in /home/kako/anaconda3/envs/myenv/lib/python3.9/site-packages (from trio~=0.17->selenium) (1.3.0.post0)\n",
      "Requirement already satisfied: sniffio>=1.3.0 in /home/kako/anaconda3/envs/myenv/lib/python3.9/site-packages (from trio~=0.17->selenium) (1.3.0)\n",
      "Requirement already satisfied: exceptiongroup in /home/kako/anaconda3/envs/myenv/lib/python3.9/site-packages (from trio~=0.17->selenium) (1.2.0)\n",
      "Requirement already satisfied: wsproto>=0.14 in /home/kako/anaconda3/envs/myenv/lib/python3.9/site-packages (from trio-websocket~=0.9->selenium) (1.2.0)\n",
      "Requirement already satisfied: pysocks!=1.5.7,<2.0,>=1.5.6 in /home/kako/anaconda3/envs/myenv/lib/python3.9/site-packages (from urllib3[socks]<3,>=1.26->selenium) (1.7.1)\n",
      "Requirement already satisfied: h11<1,>=0.9.0 in /home/kako/anaconda3/envs/myenv/lib/python3.9/site-packages (from wsproto>=0.14->trio-websocket~=0.9->selenium) (0.14.0)\n",
      "Requirement already satisfied: webdriver_manager in /home/kako/anaconda3/envs/myenv/lib/python3.9/site-packages (4.0.1)\n",
      "Requirement already satisfied: requests in /home/kako/anaconda3/envs/myenv/lib/python3.9/site-packages (from webdriver_manager) (2.31.0)\n",
      "Requirement already satisfied: python-dotenv in /home/kako/anaconda3/envs/myenv/lib/python3.9/site-packages (from webdriver_manager) (1.0.1)\n",
      "Requirement already satisfied: packaging in /home/kako/anaconda3/envs/myenv/lib/python3.9/site-packages (from webdriver_manager) (23.2)\n",
      "Requirement already satisfied: charset-normalizer<4,>=2 in /home/kako/anaconda3/envs/myenv/lib/python3.9/site-packages (from requests->webdriver_manager) (3.3.2)\n",
      "Requirement already satisfied: idna<4,>=2.5 in /home/kako/anaconda3/envs/myenv/lib/python3.9/site-packages (from requests->webdriver_manager) (3.6)\n",
      "Requirement already satisfied: urllib3<3,>=1.21.1 in /home/kako/anaconda3/envs/myenv/lib/python3.9/site-packages (from requests->webdriver_manager) (2.2.0)\n",
      "Requirement already satisfied: certifi>=2017.4.17 in /home/kako/anaconda3/envs/myenv/lib/python3.9/site-packages (from requests->webdriver_manager) (2023.11.17)\n"
     ]
    }
   ],
   "source": [
    "!pip install selenium\n",
    "!pip install webdriver_manager"
   ]
  },
  {
   "cell_type": "code",
   "execution_count": 3,
   "metadata": {},
   "outputs": [
    {
     "ename": "WebDriverException",
     "evalue": "Message: unknown error: net::ERR_CONNECTION_REFUSED\n  (Session info: chrome=121.0.6167.139)\nStacktrace:\n#0 0x55895437bd93 <unknown>\n#1 0x55895405f337 <unknown>\n#2 0x558954057193 <unknown>\n#3 0x558954047161 <unknown>\n#4 0x5589540485cb <unknown>\n#5 0x558954047414 <unknown>\n#6 0x5589540465e5 <unknown>\n#7 0x558954046557 <unknown>\n#8 0x558954044c1a <unknown>\n#9 0x5589540451ca <unknown>\n#10 0x558954061b6e <unknown>\n#11 0x5589540ecd45 <unknown>\n#12 0x5589540cd442 <unknown>\n#13 0x5589540ec12d <unknown>\n#14 0x5589540cd1e3 <unknown>\n#15 0x55895409d135 <unknown>\n#16 0x55895409e13e <unknown>\n#17 0x55895433fe4b <unknown>\n#18 0x558954343dfa <unknown>\n#19 0x55895432c6d5 <unknown>\n#20 0x558954344a6f <unknown>\n#21 0x55895431069f <unknown>\n#22 0x558954369098 <unknown>\n#23 0x558954369262 <unknown>\n#24 0x55895437af34 <unknown>\n#25 0x7f87cadf7ac3 <unknown>\n",
     "output_type": "error",
     "traceback": [
      "\u001b[0;31m---------------------------------------------------------------------------\u001b[0m",
      "\u001b[0;31mWebDriverException\u001b[0m                        Traceback (most recent call last)",
      "Cell \u001b[0;32mIn[3], line 67\u001b[0m\n\u001b[1;32m     64\u001b[0m         driver\u001b[38;5;241m.\u001b[39mquit()\n\u001b[1;32m     66\u001b[0m \u001b[38;5;28;01mif\u001b[39;00m \u001b[38;5;18m__name__\u001b[39m \u001b[38;5;241m==\u001b[39m \u001b[38;5;124m\"\u001b[39m\u001b[38;5;124m__main__\u001b[39m\u001b[38;5;124m\"\u001b[39m:\n\u001b[0;32m---> 67\u001b[0m     \u001b[43mmain\u001b[49m\u001b[43m(\u001b[49m\u001b[43m)\u001b[49m\n",
      "Cell \u001b[0;32mIn[3], line 36\u001b[0m, in \u001b[0;36mmain\u001b[0;34m()\u001b[0m\n\u001b[1;32m     34\u001b[0m \u001b[38;5;28;01mtry\u001b[39;00m:\n\u001b[1;32m     35\u001b[0m     \u001b[38;5;28;01mfor\u001b[39;00m i \u001b[38;5;129;01min\u001b[39;00m \u001b[38;5;28mrange\u001b[39m(\u001b[38;5;241m1\u001b[39m, \u001b[38;5;241m100\u001b[39m):  \u001b[38;5;66;03m# デモとして100回のタスクを実行\u001b[39;00m\n\u001b[0;32m---> 36\u001b[0m         \u001b[43mdriver\u001b[49m\u001b[38;5;241;43m.\u001b[39;49m\u001b[43mget\u001b[49m\u001b[43m(\u001b[49m\u001b[38;5;124;43m\"\u001b[39;49m\u001b[38;5;124;43mhttp://localhost:8000/miniwob/html/miniwob/count-shape.html\u001b[39;49m\u001b[38;5;124;43m\"\u001b[39;49m\u001b[43m)\u001b[49m\n\u001b[1;32m     37\u001b[0m         WebDriverWait(driver, \u001b[38;5;241m10\u001b[39m)\u001b[38;5;241m.\u001b[39muntil(EC\u001b[38;5;241m.\u001b[39melement_to_be_clickable((By\u001b[38;5;241m.\u001b[39mTAG_NAME, \u001b[38;5;124m'\u001b[39m\u001b[38;5;124mbody\u001b[39m\u001b[38;5;124m'\u001b[39m)))\n\u001b[1;32m     43\u001b[0m         time\u001b[38;5;241m.\u001b[39msleep(\u001b[38;5;241m1\u001b[39m)\n",
      "File \u001b[0;32m~/anaconda3/envs/myenv/lib/python3.9/site-packages/selenium/webdriver/remote/webdriver.py:356\u001b[0m, in \u001b[0;36mWebDriver.get\u001b[0;34m(self, url)\u001b[0m\n\u001b[1;32m    354\u001b[0m \u001b[38;5;28;01mdef\u001b[39;00m \u001b[38;5;21mget\u001b[39m(\u001b[38;5;28mself\u001b[39m, url: \u001b[38;5;28mstr\u001b[39m) \u001b[38;5;241m-\u001b[39m\u001b[38;5;241m>\u001b[39m \u001b[38;5;28;01mNone\u001b[39;00m:\n\u001b[1;32m    355\u001b[0m \u001b[38;5;250m    \u001b[39m\u001b[38;5;124;03m\"\"\"Loads a web page in the current browser session.\"\"\"\u001b[39;00m\n\u001b[0;32m--> 356\u001b[0m     \u001b[38;5;28;43mself\u001b[39;49m\u001b[38;5;241;43m.\u001b[39;49m\u001b[43mexecute\u001b[49m\u001b[43m(\u001b[49m\u001b[43mCommand\u001b[49m\u001b[38;5;241;43m.\u001b[39;49m\u001b[43mGET\u001b[49m\u001b[43m,\u001b[49m\u001b[43m \u001b[49m\u001b[43m{\u001b[49m\u001b[38;5;124;43m\"\u001b[39;49m\u001b[38;5;124;43murl\u001b[39;49m\u001b[38;5;124;43m\"\u001b[39;49m\u001b[43m:\u001b[49m\u001b[43m \u001b[49m\u001b[43murl\u001b[49m\u001b[43m}\u001b[49m\u001b[43m)\u001b[49m\n",
      "File \u001b[0;32m~/anaconda3/envs/myenv/lib/python3.9/site-packages/selenium/webdriver/remote/webdriver.py:347\u001b[0m, in \u001b[0;36mWebDriver.execute\u001b[0;34m(self, driver_command, params)\u001b[0m\n\u001b[1;32m    345\u001b[0m response \u001b[38;5;241m=\u001b[39m \u001b[38;5;28mself\u001b[39m\u001b[38;5;241m.\u001b[39mcommand_executor\u001b[38;5;241m.\u001b[39mexecute(driver_command, params)\n\u001b[1;32m    346\u001b[0m \u001b[38;5;28;01mif\u001b[39;00m response:\n\u001b[0;32m--> 347\u001b[0m     \u001b[38;5;28;43mself\u001b[39;49m\u001b[38;5;241;43m.\u001b[39;49m\u001b[43merror_handler\u001b[49m\u001b[38;5;241;43m.\u001b[39;49m\u001b[43mcheck_response\u001b[49m\u001b[43m(\u001b[49m\u001b[43mresponse\u001b[49m\u001b[43m)\u001b[49m\n\u001b[1;32m    348\u001b[0m     response[\u001b[38;5;124m\"\u001b[39m\u001b[38;5;124mvalue\u001b[39m\u001b[38;5;124m\"\u001b[39m] \u001b[38;5;241m=\u001b[39m \u001b[38;5;28mself\u001b[39m\u001b[38;5;241m.\u001b[39m_unwrap_value(response\u001b[38;5;241m.\u001b[39mget(\u001b[38;5;124m\"\u001b[39m\u001b[38;5;124mvalue\u001b[39m\u001b[38;5;124m\"\u001b[39m, \u001b[38;5;28;01mNone\u001b[39;00m))\n\u001b[1;32m    349\u001b[0m     \u001b[38;5;28;01mreturn\u001b[39;00m response\n",
      "File \u001b[0;32m~/anaconda3/envs/myenv/lib/python3.9/site-packages/selenium/webdriver/remote/errorhandler.py:229\u001b[0m, in \u001b[0;36mErrorHandler.check_response\u001b[0;34m(self, response)\u001b[0m\n\u001b[1;32m    227\u001b[0m         alert_text \u001b[38;5;241m=\u001b[39m value[\u001b[38;5;124m\"\u001b[39m\u001b[38;5;124malert\u001b[39m\u001b[38;5;124m\"\u001b[39m]\u001b[38;5;241m.\u001b[39mget(\u001b[38;5;124m\"\u001b[39m\u001b[38;5;124mtext\u001b[39m\u001b[38;5;124m\"\u001b[39m)\n\u001b[1;32m    228\u001b[0m     \u001b[38;5;28;01mraise\u001b[39;00m exception_class(message, screen, stacktrace, alert_text)  \u001b[38;5;66;03m# type: ignore[call-arg]  # mypy is not smart enough here\u001b[39;00m\n\u001b[0;32m--> 229\u001b[0m \u001b[38;5;28;01mraise\u001b[39;00m exception_class(message, screen, stacktrace)\n",
      "\u001b[0;31mWebDriverException\u001b[0m: Message: unknown error: net::ERR_CONNECTION_REFUSED\n  (Session info: chrome=121.0.6167.139)\nStacktrace:\n#0 0x55895437bd93 <unknown>\n#1 0x55895405f337 <unknown>\n#2 0x558954057193 <unknown>\n#3 0x558954047161 <unknown>\n#4 0x5589540485cb <unknown>\n#5 0x558954047414 <unknown>\n#6 0x5589540465e5 <unknown>\n#7 0x558954046557 <unknown>\n#8 0x558954044c1a <unknown>\n#9 0x5589540451ca <unknown>\n#10 0x558954061b6e <unknown>\n#11 0x5589540ecd45 <unknown>\n#12 0x5589540cd442 <unknown>\n#13 0x5589540ec12d <unknown>\n#14 0x5589540cd1e3 <unknown>\n#15 0x55895409d135 <unknown>\n#16 0x55895409e13e <unknown>\n#17 0x55895433fe4b <unknown>\n#18 0x558954343dfa <unknown>\n#19 0x55895432c6d5 <unknown>\n#20 0x558954344a6f <unknown>\n#21 0x55895431069f <unknown>\n#22 0x558954369098 <unknown>\n#23 0x558954369262 <unknown>\n#24 0x55895437af34 <unknown>\n#25 0x7f87cadf7ac3 <unknown>\n"
     ]
    }
   ],
   "source": [
    "\n",
    "# 必要なライブラリのインポートは同じなので省略\n",
    "import os\n",
    "import csv\n",
    "import time\n",
    "from selenium import webdriver\n",
    "from selenium.webdriver.common.by import By\n",
    "from selenium.webdriver.chrome.service import Service\n",
    "from selenium.webdriver.support.ui import WebDriverWait\n",
    "from selenium.webdriver.support import expected_conditions as EC\n",
    "from webdriver_manager.chrome import ChromeDriverManager\n",
    "\n",
    "from selenium.webdriver.support import expected_conditions as EC\n",
    "from selenium.webdriver.support.ui import WebDriverWait\n",
    "\n",
    "\n",
    "def setup_dataset_directory(base_dir=\"clip_dataset\"):\n",
    "    images_dir = os.path.join(base_dir, \"images\")\n",
    "    os.makedirs(images_dir, exist_ok=True)\n",
    "    csv_file_path = os.path.join(base_dir, \"dataset.csv\")\n",
    "    with open(csv_file_path, 'w', newline='', encoding='utf-8') as file:\n",
    "        writer = csv.writer(file)\n",
    "        writer.writerow([\"image_filename\", \"text_description\", \"button_texts\"])\n",
    "    return images_dir, csv_file_path\n",
    "\n",
    "def append_to_csv(csv_file_path, image_filename, text_description, button_texts):\n",
    "    with open(csv_file_path, 'a', newline='', encoding='utf-8') as file:\n",
    "        writer = csv.writer(file)\n",
    "        writer.writerow([image_filename, text_description, \"|\".join(button_texts)])\n",
    "        \n",
    "def main():\n",
    "    images_dir, csv_file_path = setup_dataset_directory()\n",
    "    driver = webdriver.Chrome(service=Service(ChromeDriverManager().install()))\n",
    "\n",
    "    try:\n",
    "        for i in range(1, 100):  # デモとして100回のタスクを実行\n",
    "            driver.get(\"http://localhost:8000/miniwob/html/miniwob/count-shape.html\")\n",
    "            WebDriverWait(driver, 10).until(EC.element_to_be_clickable((By.TAG_NAME, 'body')))\n",
    "            \n",
    "         \n",
    "\n",
    "\n",
    "             \n",
    "            time.sleep(1)\n",
    "            \n",
    "            WebDriverWait(driver, 10).until(\n",
    "                EC.visibility_of_element_located((By.ID, \"query\"))\n",
    "            )\n",
    "            text_description = driver.find_element(By.ID, \"query\").text\n",
    "            \n",
    "            WebDriverWait(driver, 10).until(\n",
    "                EC.presence_of_all_elements_located((By.CSS_SELECTOR, \"#count-buttons button\"))\n",
    "            )\n",
    "            buttons = driver.find_elements(By.CSS_SELECTOR, \"#count-buttons button\")\n",
    "            button_texts = [button.text for button in buttons]\n",
    "\n",
    "            svg_element = driver.find_element(By.ID, \"area_svg\")\n",
    "            image_filename = f\"image_{i:04}.png\"\n",
    "            image_path = os.path.join(images_dir, image_filename)\n",
    "            svg_element.screenshot(image_path)\n",
    "\n",
    "            append_to_csv(csv_file_path, image_filename, text_description, ' '.join(button_texts))\n",
    "\n",
    "    finally:\n",
    "        driver.quit()\n",
    "\n",
    "if __name__ == \"__main__\":\n",
    "    main()\n"
   ]
  }
 ],
 "metadata": {
  "kernelspec": {
   "display_name": "myenv",
   "language": "python",
   "name": "python3"
  },
  "language_info": {
   "codemirror_mode": {
    "name": "ipython",
    "version": 3
   },
   "file_extension": ".py",
   "mimetype": "text/x-python",
   "name": "python",
   "nbconvert_exporter": "python",
   "pygments_lexer": "ipython3",
   "version": "3.9.18"
  }
 },
 "nbformat": 4,
 "nbformat_minor": 2
}
