{
 "cells": [
  {
   "cell_type": "code",
   "execution_count": null,
   "metadata": {},
   "outputs": [],
   "source": [
    "# !pip install beautifulsoup4\n"
   ]
  },
  {
   "cell_type": "code",
   "execution_count": null,
   "metadata": {},
   "outputs": [],
   "source": [
    "# !pip install selenium\n",
    "# !pip install webdriver_manager"
   ]
  },
  {
   "cell_type": "code",
   "execution_count": null,
   "metadata": {},
   "outputs": [],
   "source": [
    "\n",
    "# 必要なライブラリのインポートは同じなので省略\n",
    "import os\n",
    "import csv\n",
    "import time\n",
    "from selenium import webdriver\n",
    "from selenium.webdriver.common.by import By\n",
    "from selenium.webdriver.chrome.service import Service\n",
    "from selenium.webdriver.support.ui import WebDriverWait\n",
    "from selenium.webdriver.support import expected_conditions as EC\n",
    "from webdriver_manager.chrome import ChromeDriverManager\n",
    "\n",
    "from selenium.webdriver.support import expected_conditions as EC\n",
    "from selenium.webdriver.support.ui import WebDriverWait\n",
    "\n",
    "\n",
    "def setup_dataset_directory(base_dir=\"clip_dataset\"):\n",
    "    images_dir = os.path.join(base_dir, \"images\")\n",
    "    os.makedirs(images_dir, exist_ok=True)\n",
    "    csv_file_path = os.path.join(base_dir, \"dataset.csv\")\n",
    "    with open(csv_file_path, 'w', newline='', encoding='utf-8') as file:\n",
    "        writer = csv.writer(file)\n",
    "        writer.writerow([\"image_filename\", \"text_description\", \"button_texts\"])\n",
    "    return images_dir, csv_file_path\n",
    "\n",
    "def append_to_csv(csv_file_path, image_filename, text_description, button_texts):\n",
    "    with open(csv_file_path, 'a', newline='', encoding='utf-8') as file:\n",
    "        writer = csv.writer(file)\n",
    "        writer.writerow([image_filename, text_description, \"|\".join(button_texts)])\n",
    "        \n",
    "def main():\n",
    "    images_dir, csv_file_path = setup_dataset_directory()\n",
    "    driver = webdriver.Chrome(service=Service(ChromeDriverManager().install()))\n",
    "\n",
    "    try:\n",
    "        for i in range(1, 100):  # デモとして100回のタスクを実行\n",
    "            driver.get(\"http://localhost:8000/miniwob/html/miniwob/count-shape.html\")\n",
    "            WebDriverWait(driver, 10).until(EC.element_to_be_clickable((By.TAG_NAME, 'body')))\n",
    "            \n",
    "         \n",
    "\n",
    "\n",
    "             \n",
    "            time.sleep(1)\n",
    "            \n",
    "            WebDriverWait(driver, 10).until(\n",
    "                EC.visibility_of_element_located((By.ID, \"query\"))\n",
    "            )\n",
    "            text_description = driver.find_element(By.ID, \"query\").text\n",
    "            \n",
    "            WebDriverWait(driver, 10).until(\n",
    "                EC.presence_of_all_elements_located((By.CSS_SELECTOR, \"#count-buttons button\"))\n",
    "            )\n",
    "            buttons = driver.find_elements(By.CSS_SELECTOR, \"#count-buttons button\")\n",
    "            button_texts = [button.text for button in buttons]\n",
    "\n",
    "            svg_element = driver.find_element(By.ID, \"area_svg\")\n",
    "            image_filename = f\"image_{i:04}.png\"\n",
    "            image_path = os.path.join(images_dir, image_filename)\n",
    "            svg_element.screenshot(image_path)\n",
    "\n",
    "            append_to_csv(csv_file_path, image_filename, text_description, ' '.join(button_texts))\n",
    "\n",
    "    finally:\n",
    "        driver.quit()\n",
    "\n",
    "if __name__ == \"__main__\":\n",
    "    main()\n"
   ]
  }
 ],
 "metadata": {
  "kernelspec": {
   "display_name": "myenv",
   "language": "python",
   "name": "python3"
  },
  "language_info": {
   "codemirror_mode": {
    "name": "ipython",
    "version": 3
   },
   "file_extension": ".py",
   "mimetype": "text/x-python",
   "name": "python",
   "nbconvert_exporter": "python",
   "pygments_lexer": "ipython3",
   "version": "3.9.18"
  }
 },
 "nbformat": 4,
 "nbformat_minor": 2
}
