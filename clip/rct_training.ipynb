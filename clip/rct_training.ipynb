{
 "cells": [
  {
   "cell_type": "markdown",
   "metadata": {},
   "source": [
    "## ライブブラリのインポート"
   ]
  },
  {
   "cell_type": "code",
   "execution_count": 1,
   "metadata": {},
   "outputs": [],
   "source": [
    "import argparse\n",
    "import random\n",
    "import gym\n",
    "import logging\n",
    "from tqdm import tqdm\n",
    "\n",
    "# 必要に応じて追加のライブラリをインポート\n"
   ]
  },
  {
   "cell_type": "markdown",
   "metadata": {},
   "source": [
    "## パースとMiniWoB環境でcount-shapeタスクを実行する関数"
   ]
  },
  {
   "cell_type": "code",
   "execution_count": 2,
   "metadata": {},
   "outputs": [
    {
     "ename": "NameNotFound",
     "evalue": "Environment MiniWoBEnv doesn't exist. ",
     "output_type": "error",
     "traceback": [
      "\u001b[0;31m---------------------------------------------------------------------------\u001b[0m",
      "\u001b[0;31mNameNotFound\u001b[0m                              Traceback (most recent call last)",
      "Cell \u001b[0;32mIn[2], line 80\u001b[0m\n\u001b[1;32m     78\u001b[0m \u001b[38;5;28;01mif\u001b[39;00m \u001b[38;5;18m__name__\u001b[39m \u001b[38;5;241m==\u001b[39m \u001b[38;5;124m\"\u001b[39m\u001b[38;5;124m__main__\u001b[39m\u001b[38;5;124m\"\u001b[39m:\n\u001b[1;32m     79\u001b[0m     opt \u001b[38;5;241m=\u001b[39m Options()\n\u001b[0;32m---> 80\u001b[0m     \u001b[43mminiwob_count_shape\u001b[49m\u001b[43m(\u001b[49m\u001b[43mopt\u001b[49m\u001b[43m)\u001b[49m\n",
      "Cell \u001b[0;32mIn[2], line 33\u001b[0m, in \u001b[0;36mminiwob_count_shape\u001b[0;34m(opt)\u001b[0m\n\u001b[1;32m     32\u001b[0m \u001b[38;5;28;01mdef\u001b[39;00m \u001b[38;5;21mminiwob_count_shape\u001b[39m(opt):\n\u001b[0;32m---> 33\u001b[0m     env \u001b[38;5;241m=\u001b[39m \u001b[43mgym\u001b[49m\u001b[38;5;241;43m.\u001b[39;49m\u001b[43mmake\u001b[49m\u001b[43m(\u001b[49m\u001b[38;5;124;43m\"\u001b[39;49m\u001b[38;5;124;43mMiniWoBEnv-v0\u001b[39;49m\u001b[38;5;124;43m\"\u001b[39;49m\u001b[43m,\u001b[49m\u001b[43m \u001b[49m\u001b[43menv_name\u001b[49m\u001b[38;5;241;43m=\u001b[39;49m\u001b[43mopt\u001b[49m\u001b[38;5;241;43m.\u001b[39;49m\u001b[43menv\u001b[49m\u001b[43m,\u001b[49m\u001b[43m \u001b[49m\u001b[43mheadless\u001b[49m\u001b[38;5;241;43m=\u001b[39;49m\u001b[43mopt\u001b[49m\u001b[38;5;241;43m.\u001b[39;49m\u001b[43mheadless\u001b[49m\u001b[43m)\u001b[49m\n\u001b[1;32m     34\u001b[0m     success \u001b[38;5;241m=\u001b[39m \u001b[38;5;241m0\u001b[39m\n\u001b[1;32m     36\u001b[0m     \u001b[38;5;28;01mfor\u001b[39;00m _ \u001b[38;5;129;01min\u001b[39;00m tqdm(\u001b[38;5;28mrange\u001b[39m(opt\u001b[38;5;241m.\u001b[39mnum_episodes)):\n\u001b[1;32m     37\u001b[0m         \u001b[38;5;66;03m# LLMAgentの初期化とタスク設定\u001b[39;00m\n",
      "File \u001b[0;32m~/anaconda3/envs/myenv/lib/python3.9/site-packages/gym/envs/registration.py:569\u001b[0m, in \u001b[0;36mmake\u001b[0;34m(id, max_episode_steps, autoreset, apply_api_compatibility, disable_env_checker, **kwargs)\u001b[0m\n\u001b[1;32m    563\u001b[0m         logger\u001b[38;5;241m.\u001b[39mwarn(\n\u001b[1;32m    564\u001b[0m             \u001b[38;5;124mf\u001b[39m\u001b[38;5;124m\"\u001b[39m\u001b[38;5;124mUsing the latest versioned environment `\u001b[39m\u001b[38;5;132;01m{\u001b[39;00mnew_env_id\u001b[38;5;132;01m}\u001b[39;00m\u001b[38;5;124m` \u001b[39m\u001b[38;5;124m\"\u001b[39m\n\u001b[1;32m    565\u001b[0m             \u001b[38;5;124mf\u001b[39m\u001b[38;5;124m\"\u001b[39m\u001b[38;5;124minstead of the unversioned environment `\u001b[39m\u001b[38;5;132;01m{\u001b[39;00m\u001b[38;5;28mid\u001b[39m\u001b[38;5;132;01m}\u001b[39;00m\u001b[38;5;124m`.\u001b[39m\u001b[38;5;124m\"\u001b[39m\n\u001b[1;32m    566\u001b[0m         )\n\u001b[1;32m    568\u001b[0m     \u001b[38;5;28;01mif\u001b[39;00m spec_ \u001b[38;5;129;01mis\u001b[39;00m \u001b[38;5;28;01mNone\u001b[39;00m:\n\u001b[0;32m--> 569\u001b[0m         \u001b[43m_check_version_exists\u001b[49m\u001b[43m(\u001b[49m\u001b[43mns\u001b[49m\u001b[43m,\u001b[49m\u001b[43m \u001b[49m\u001b[43mname\u001b[49m\u001b[43m,\u001b[49m\u001b[43m \u001b[49m\u001b[43mversion\u001b[49m\u001b[43m)\u001b[49m\n\u001b[1;32m    570\u001b[0m         \u001b[38;5;28;01mraise\u001b[39;00m error\u001b[38;5;241m.\u001b[39mError(\u001b[38;5;124mf\u001b[39m\u001b[38;5;124m\"\u001b[39m\u001b[38;5;124mNo registered env with id: \u001b[39m\u001b[38;5;132;01m{\u001b[39;00m\u001b[38;5;28mid\u001b[39m\u001b[38;5;132;01m}\u001b[39;00m\u001b[38;5;124m\"\u001b[39m)\n\u001b[1;32m    572\u001b[0m _kwargs \u001b[38;5;241m=\u001b[39m spec_\u001b[38;5;241m.\u001b[39mkwargs\u001b[38;5;241m.\u001b[39mcopy()\n",
      "File \u001b[0;32m~/anaconda3/envs/myenv/lib/python3.9/site-packages/gym/envs/registration.py:219\u001b[0m, in \u001b[0;36m_check_version_exists\u001b[0;34m(ns, name, version)\u001b[0m\n\u001b[1;32m    216\u001b[0m \u001b[38;5;28;01mif\u001b[39;00m get_env_id(ns, name, version) \u001b[38;5;129;01min\u001b[39;00m registry:\n\u001b[1;32m    217\u001b[0m     \u001b[38;5;28;01mreturn\u001b[39;00m\n\u001b[0;32m--> 219\u001b[0m \u001b[43m_check_name_exists\u001b[49m\u001b[43m(\u001b[49m\u001b[43mns\u001b[49m\u001b[43m,\u001b[49m\u001b[43m \u001b[49m\u001b[43mname\u001b[49m\u001b[43m)\u001b[49m\n\u001b[1;32m    220\u001b[0m \u001b[38;5;28;01mif\u001b[39;00m version \u001b[38;5;129;01mis\u001b[39;00m \u001b[38;5;28;01mNone\u001b[39;00m:\n\u001b[1;32m    221\u001b[0m     \u001b[38;5;28;01mreturn\u001b[39;00m\n",
      "File \u001b[0;32m~/anaconda3/envs/myenv/lib/python3.9/site-packages/gym/envs/registration.py:197\u001b[0m, in \u001b[0;36m_check_name_exists\u001b[0;34m(ns, name)\u001b[0m\n\u001b[1;32m    194\u001b[0m namespace_msg \u001b[38;5;241m=\u001b[39m \u001b[38;5;124mf\u001b[39m\u001b[38;5;124m\"\u001b[39m\u001b[38;5;124m in namespace \u001b[39m\u001b[38;5;132;01m{\u001b[39;00mns\u001b[38;5;132;01m}\u001b[39;00m\u001b[38;5;124m\"\u001b[39m \u001b[38;5;28;01mif\u001b[39;00m ns \u001b[38;5;28;01melse\u001b[39;00m \u001b[38;5;124m\"\u001b[39m\u001b[38;5;124m\"\u001b[39m\n\u001b[1;32m    195\u001b[0m suggestion_msg \u001b[38;5;241m=\u001b[39m \u001b[38;5;124mf\u001b[39m\u001b[38;5;124m\"\u001b[39m\u001b[38;5;124mDid you mean: `\u001b[39m\u001b[38;5;132;01m{\u001b[39;00msuggestion[\u001b[38;5;241m0\u001b[39m]\u001b[38;5;132;01m}\u001b[39;00m\u001b[38;5;124m`?\u001b[39m\u001b[38;5;124m\"\u001b[39m \u001b[38;5;28;01mif\u001b[39;00m suggestion \u001b[38;5;28;01melse\u001b[39;00m \u001b[38;5;124m\"\u001b[39m\u001b[38;5;124m\"\u001b[39m\n\u001b[0;32m--> 197\u001b[0m \u001b[38;5;28;01mraise\u001b[39;00m error\u001b[38;5;241m.\u001b[39mNameNotFound(\n\u001b[1;32m    198\u001b[0m     \u001b[38;5;124mf\u001b[39m\u001b[38;5;124m\"\u001b[39m\u001b[38;5;124mEnvironment \u001b[39m\u001b[38;5;132;01m{\u001b[39;00mname\u001b[38;5;132;01m}\u001b[39;00m\u001b[38;5;124m doesn\u001b[39m\u001b[38;5;124m'\u001b[39m\u001b[38;5;124mt exist\u001b[39m\u001b[38;5;132;01m{\u001b[39;00mnamespace_msg\u001b[38;5;132;01m}\u001b[39;00m\u001b[38;5;124m. \u001b[39m\u001b[38;5;132;01m{\u001b[39;00msuggestion_msg\u001b[38;5;132;01m}\u001b[39;00m\u001b[38;5;124m\"\u001b[39m\n\u001b[1;32m    199\u001b[0m )\n",
      "\u001b[0;31mNameNotFound\u001b[0m: Environment MiniWoBEnv doesn't exist. "
     ]
    }
   ],
   "source": [
    "import gym\n",
    "from tqdm import tqdm\n",
    "import logging\n",
    "\n",
    "# 必要な場合は、LLMAgentクラスをインポート\n",
    "# from llm_agent import LLMAgent\n",
    "\n",
    "\n",
    "def parse_opt():\n",
    "    parser = argparse.ArgumentParser()\n",
    "    parser.add_argument(\"--env\", type=str, default=\"count-shape\")\n",
    "    parser.add_argument(\"--num-episodes\", type=int, default=10)\n",
    "    parser.add_argument(\"--llm\", type=str, default=\"chatgpt\")\n",
    "    parser.add_argument(\"--erci\", type=int, default=0)\n",
    "    parser.add_argument(\"--step\", type=int, default=-1)\n",
    "    parser.add_argument(\"--irci\", type=int, default=1)\n",
    "    parser.add_argument(\"--sgrounding\", action=\"store_true\", default=False)\n",
    "    parser.add_argument(\"--headless\", action=\"store_true\", default=True)\n",
    "\n",
    "    return parser.parse_args()\n",
    "\n",
    "\n",
    "def get_html_state(opt, states):\n",
    "    # HTML状態の取得ロジック（ダミー）\n",
    "    return states[0].html_body\n",
    "\n",
    "def record_history(success_rate, num_episodes):\n",
    "    \"\"\"成功率をhistory.txtに記録する\"\"\"\n",
    "    with open('history.txt', 'a') as file:\n",
    "        file.write(f\"After {num_episodes} episodes, success rate: {success_rate*100:.2f}%\\n\")\n",
    "\n",
    "def miniwob_count_shape(opt):\n",
    "    env = gym.make(\"MiniWoBEnv-v0\", env_name=opt.env, headless=opt.headless)\n",
    "    success = 0\n",
    "\n",
    "    for _ in tqdm(range(opt.num_episodes)):\n",
    "        # LLMAgentの初期化とタスク設定\n",
    "        llm_agent = LLMAgent(\n",
    "            opt.env,\n",
    "            rci_plan_loop=opt.erci,\n",
    "            rci_limit=opt.irci,\n",
    "            llm=opt.llm,\n",
    "            state_grounding=opt.sgrounding,\n",
    "        )\n",
    "\n",
    "        states = env.reset(seeds=[random.random()], record_screenshots=True)\n",
    "        llm_agent.set_goal(states[0].utterance)\n",
    "        html_state = get_html_state(opt, states)\n",
    "        llm_agent.update_html_state(html_state)\n",
    "\n",
    "        try:\n",
    "            instruction = llm_agent.generate_action()\n",
    "            miniwob_action = llm_agent.convert_to_miniwob_action(instruction)\n",
    "            states, rewards, dones, _ = env.step([miniwob_action])\n",
    "        except ValueError:\n",
    "            rewards = [0]\n",
    "            dones = [True]\n",
    "\n",
    "        if rewards[0] > 0:\n",
    "            success += 1\n",
    "\n",
    "    # 全エピソード終了後の成功率の計算と記録\n",
    "    success_rate = success / opt.num_episodes\n",
    "    print(f\"Final success rate: {success_rate*100:.2f}%\")\n",
    "    record_history(success_rate, opt.num_episodes)\n",
    "\n",
    "# opt変数の定義（ダミー）\n",
    "class Options:\n",
    "    def __init__(self):\n",
    "        self.env = \"count-shape\"\n",
    "        self.num_episodes = 10  # エピソード数\n",
    "        self.erci = 1\n",
    "        self.irci = 1\n",
    "        self.llm = \"chatgpt\"\n",
    "        self.sgrounding = True\n",
    "        self.headless = True\n",
    "\n",
    "if __name__ == \"__main__\":\n",
    "    opt = Options()\n",
    "    miniwob_count_shape(opt)\n"
   ]
  },
  {
   "cell_type": "markdown",
   "metadata": {},
   "source": [
    "##  LLMAgentや必要なヘルパー関数を定義"
   ]
  },
  {
   "cell_type": "code",
   "execution_count": 1,
   "metadata": {},
   "outputs": [],
   "source": [
    "class LLMAgent:\n",
    "    def __init__(self, env_name, clip_results, **kwargs):\n",
    "        self.env_name = env_name\n",
    "        self.clip_results = clip_results\n",
    "        # その他の初期化処理\n",
    "\n",
    "    def set_goal(self, utterance):\n",
    "        # ゴールの設定\n",
    "        pass\n",
    "\n",
    "    def update_html_state(self, html_state):\n",
    "        # HTML状態の更新\n",
    "        pass\n",
    "\n",
    "    def generate_action(self):\n",
    "        # アクション生成ロジック\n",
    "        return \"click_button\"  # 例\n",
    "\n",
    "    def convert_to_miniwob_action(self, instruction):\n",
    "        # MiniWoBアクションへの変換\n",
    "        return {}\n",
    "\n",
    "    def save_result(self, success):\n",
    "        # 結果の保存\n",
    "        with open(\"history.txt\", \"a\") as f:\n",
    "            f.write(f\"Task: {self.env_name}, Success: {success}\\n\")\n",
    "\n",
    "def load_clip_results(file_path):\n",
    "    # CLIP結果の読み込み\n",
    "    return {}\n",
    "\n",
    "def get_html_state(opt, states):\n",
    "    # HTML状態の取得\n",
    "    return states[0].html_body\n"
   ]
  }
 ],
 "metadata": {
  "kernelspec": {
   "display_name": "myenv",
   "language": "python",
   "name": "python3"
  },
  "language_info": {
   "codemirror_mode": {
    "name": "ipython",
    "version": 3
   },
   "file_extension": ".py",
   "mimetype": "text/x-python",
   "name": "python",
   "nbconvert_exporter": "python",
   "pygments_lexer": "ipython3",
   "version": "3.9.18"
  }
 },
 "nbformat": 4,
 "nbformat_minor": 2
}
