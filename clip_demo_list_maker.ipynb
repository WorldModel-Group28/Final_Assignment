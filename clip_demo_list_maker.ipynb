{
 "cells": [
  {
   "cell_type": "markdown",
   "metadata": {},
   "source": [
    "## 前提条件\n",
    "Python環境:３．８以降\n",
    "SeleniumとWebDriver Manager: 必要なライブラリがインストールされていることを確認。\n",
    "なければpip install selenium webdriver-managerを実行。\n",
    "MiniWoB環境: http://localhost:8000/miniwob/html/miniwob/count-shape.html\n",
    "にアクセスできるように、MiniWoBがローカルで正しくセットアップされていることを確認。"
   ]
  },
  {
   "cell_type": "code",
   "execution_count": 11,
   "metadata": {},
   "outputs": [
    {
     "name": "stdout",
     "output_type": "stream",
     "text": [
      "Requirement already satisfied: beautifulsoup4 in /home/kako/anaconda3/envs/myenv/lib/python3.9/site-packages (4.12.3)\n",
      "Requirement already satisfied: soupsieve>1.2 in /home/kako/anaconda3/envs/myenv/lib/python3.9/site-packages (from beautifulsoup4) (2.5)\n"
     ]
    }
   ],
   "source": [
    "# !pip install beautifulsoup4\n"
   ]
  },
  {
   "cell_type": "code",
   "execution_count": 12,
   "metadata": {},
   "outputs": [
    {
     "name": "stdout",
     "output_type": "stream",
     "text": [
      "Requirement already satisfied: selenium in /home/kako/anaconda3/envs/myenv/lib/python3.9/site-packages (4.17.2)\n",
      "Requirement already satisfied: urllib3<3,>=1.26 in /home/kako/anaconda3/envs/myenv/lib/python3.9/site-packages (from urllib3[socks]<3,>=1.26->selenium) (2.2.0)\n",
      "Requirement already satisfied: trio~=0.17 in /home/kako/anaconda3/envs/myenv/lib/python3.9/site-packages (from selenium) (0.24.0)\n",
      "Requirement already satisfied: trio-websocket~=0.9 in /home/kako/anaconda3/envs/myenv/lib/python3.9/site-packages (from selenium) (0.11.1)\n",
      "Requirement already satisfied: certifi>=2021.10.8 in /home/kako/anaconda3/envs/myenv/lib/python3.9/site-packages (from selenium) (2023.11.17)\n",
      "Requirement already satisfied: typing_extensions>=4.9.0 in /home/kako/anaconda3/envs/myenv/lib/python3.9/site-packages (from selenium) (4.9.0)\n",
      "Requirement already satisfied: attrs>=20.1.0 in /home/kako/anaconda3/envs/myenv/lib/python3.9/site-packages (from trio~=0.17->selenium) (23.2.0)\n",
      "Requirement already satisfied: sortedcontainers in /home/kako/anaconda3/envs/myenv/lib/python3.9/site-packages (from trio~=0.17->selenium) (2.4.0)\n",
      "Requirement already satisfied: idna in /home/kako/anaconda3/envs/myenv/lib/python3.9/site-packages (from trio~=0.17->selenium) (3.6)\n",
      "Requirement already satisfied: outcome in /home/kako/anaconda3/envs/myenv/lib/python3.9/site-packages (from trio~=0.17->selenium) (1.3.0.post0)\n",
      "Requirement already satisfied: sniffio>=1.3.0 in /home/kako/anaconda3/envs/myenv/lib/python3.9/site-packages (from trio~=0.17->selenium) (1.3.0)\n",
      "Requirement already satisfied: exceptiongroup in /home/kako/anaconda3/envs/myenv/lib/python3.9/site-packages (from trio~=0.17->selenium) (1.2.0)\n",
      "Requirement already satisfied: wsproto>=0.14 in /home/kako/anaconda3/envs/myenv/lib/python3.9/site-packages (from trio-websocket~=0.9->selenium) (1.2.0)\n",
      "Requirement already satisfied: pysocks!=1.5.7,<2.0,>=1.5.6 in /home/kako/anaconda3/envs/myenv/lib/python3.9/site-packages (from urllib3[socks]<3,>=1.26->selenium) (1.7.1)\n",
      "Requirement already satisfied: h11<1,>=0.9.0 in /home/kako/anaconda3/envs/myenv/lib/python3.9/site-packages (from wsproto>=0.14->trio-websocket~=0.9->selenium) (0.14.0)\n",
      "Requirement already satisfied: webdriver_manager in /home/kako/anaconda3/envs/myenv/lib/python3.9/site-packages (4.0.1)\n",
      "Requirement already satisfied: requests in /home/kako/anaconda3/envs/myenv/lib/python3.9/site-packages (from webdriver_manager) (2.31.0)\n",
      "Requirement already satisfied: python-dotenv in /home/kako/anaconda3/envs/myenv/lib/python3.9/site-packages (from webdriver_manager) (1.0.1)\n",
      "Requirement already satisfied: packaging in /home/kako/anaconda3/envs/myenv/lib/python3.9/site-packages (from webdriver_manager) (23.2)\n",
      "Requirement already satisfied: charset-normalizer<4,>=2 in /home/kako/anaconda3/envs/myenv/lib/python3.9/site-packages (from requests->webdriver_manager) (3.3.2)\n",
      "Requirement already satisfied: idna<4,>=2.5 in /home/kako/anaconda3/envs/myenv/lib/python3.9/site-packages (from requests->webdriver_manager) (3.6)\n",
      "Requirement already satisfied: urllib3<3,>=1.21.1 in /home/kako/anaconda3/envs/myenv/lib/python3.9/site-packages (from requests->webdriver_manager) (2.2.0)\n",
      "Requirement already satisfied: certifi>=2017.4.17 in /home/kako/anaconda3/envs/myenv/lib/python3.9/site-packages (from requests->webdriver_manager) (2023.11.17)\n"
     ]
    }
   ],
   "source": [
    "# !pip install selenium\n",
    "# !pip install webdriver_manager"
   ]
  },
  {
   "cell_type": "markdown",
   "metadata": {},
   "source": [
    "##　miniwobのローカル環境のセットアップ\n",
    "\n",
    "ターミナルを開いて、cd clip/miniwob-plusplusへ移動、lsof -i :8000を実行し使用中のポートのPIDを確認、kill PIDで\n",
    "プロセスを終了する（なければそのまま8000へ接続）。\n",
    "そして、python -m http.server 8000でminiwobが起動するlocalhost8000に現在ディレクトリを接続する。"
   ]
  },
  {
   "cell_type": "markdown",
   "metadata": {},
   "source": [
    "## 以下count-shape実行画面に接続し、スクリーンショットと問題文、選択肢番号を抽出するコード\n"
   ]
  },
  {
   "cell_type": "code",
   "execution_count": 25,
   "metadata": {},
   "outputs": [
    {
     "name": "stdout",
     "output_type": "stream",
     "text": [
      "[Errno 2] No such file or directory: 'home/kako/Fainal_Assignment'\n",
      "/home/kako/Final_Assignment-1/clip/miniwob-plusplus\n"
     ]
    }
   ],
   "source": [
    "%cd home/kako/Fainal_Assignment"
   ]
  },
  {
   "cell_type": "code",
   "execution_count": 26,
   "metadata": {},
   "outputs": [
    {
     "name": "stderr",
     "output_type": "stream",
     "text": [
      "UsageError: CWD no longer exists - please use %cd to change directory.\n"
     ]
    }
   ],
   "source": [
    "pwd"
   ]
  },
  {
   "cell_type": "code",
   "execution_count": 20,
   "metadata": {},
   "outputs": [
    {
     "ename": "FileNotFoundError",
     "evalue": "[Errno 2] No such file or directory: 'clip_dataset'",
     "output_type": "error",
     "traceback": [
      "\u001b[0;31m---------------------------------------------------------------------------\u001b[0m",
      "\u001b[0;31mFileNotFoundError\u001b[0m                         Traceback (most recent call last)",
      "Cell \u001b[0;32mIn[20], line 67\u001b[0m\n\u001b[1;32m     64\u001b[0m         driver\u001b[38;5;241m.\u001b[39mquit()\n\u001b[1;32m     66\u001b[0m \u001b[38;5;28;01mif\u001b[39;00m \u001b[38;5;18m__name__\u001b[39m \u001b[38;5;241m==\u001b[39m \u001b[38;5;124m\"\u001b[39m\u001b[38;5;124m__main__\u001b[39m\u001b[38;5;124m\"\u001b[39m:\n\u001b[0;32m---> 67\u001b[0m     \u001b[43mmain\u001b[49m\u001b[43m(\u001b[49m\u001b[43m)\u001b[49m\n",
      "Cell \u001b[0;32mIn[20], line 31\u001b[0m, in \u001b[0;36mmain\u001b[0;34m()\u001b[0m\n\u001b[1;32m     30\u001b[0m \u001b[38;5;28;01mdef\u001b[39;00m \u001b[38;5;21mmain\u001b[39m():\n\u001b[0;32m---> 31\u001b[0m     images_dir, csv_file_path \u001b[38;5;241m=\u001b[39m \u001b[43msetup_dataset_directory\u001b[49m\u001b[43m(\u001b[49m\u001b[43m)\u001b[49m\n\u001b[1;32m     32\u001b[0m     driver \u001b[38;5;241m=\u001b[39m webdriver\u001b[38;5;241m.\u001b[39mChrome(service\u001b[38;5;241m=\u001b[39mService(ChromeDriverManager()\u001b[38;5;241m.\u001b[39minstall()))\n\u001b[1;32m     34\u001b[0m     \u001b[38;5;28;01mtry\u001b[39;00m:\n",
      "Cell \u001b[0;32mIn[20], line 18\u001b[0m, in \u001b[0;36msetup_dataset_directory\u001b[0;34m(base_dir)\u001b[0m\n\u001b[1;32m     16\u001b[0m \u001b[38;5;28;01mdef\u001b[39;00m \u001b[38;5;21msetup_dataset_directory\u001b[39m(base_dir\u001b[38;5;241m=\u001b[39m\u001b[38;5;124m\"\u001b[39m\u001b[38;5;124mclip_dataset\u001b[39m\u001b[38;5;124m\"\u001b[39m):\n\u001b[1;32m     17\u001b[0m     images_dir \u001b[38;5;241m=\u001b[39m os\u001b[38;5;241m.\u001b[39mpath\u001b[38;5;241m.\u001b[39mjoin(base_dir, \u001b[38;5;124m\"\u001b[39m\u001b[38;5;124mimages\u001b[39m\u001b[38;5;124m\"\u001b[39m)\n\u001b[0;32m---> 18\u001b[0m     \u001b[43mos\u001b[49m\u001b[38;5;241;43m.\u001b[39;49m\u001b[43mmakedirs\u001b[49m\u001b[43m(\u001b[49m\u001b[43mimages_dir\u001b[49m\u001b[43m,\u001b[49m\u001b[43m \u001b[49m\u001b[43mexist_ok\u001b[49m\u001b[38;5;241;43m=\u001b[39;49m\u001b[38;5;28;43;01mTrue\u001b[39;49;00m\u001b[43m)\u001b[49m\n\u001b[1;32m     19\u001b[0m     csv_file_path \u001b[38;5;241m=\u001b[39m os\u001b[38;5;241m.\u001b[39mpath\u001b[38;5;241m.\u001b[39mjoin(base_dir, \u001b[38;5;124m\"\u001b[39m\u001b[38;5;124mdataset.csv\u001b[39m\u001b[38;5;124m\"\u001b[39m)\n\u001b[1;32m     20\u001b[0m     \u001b[38;5;28;01mwith\u001b[39;00m \u001b[38;5;28mopen\u001b[39m(csv_file_path, \u001b[38;5;124m'\u001b[39m\u001b[38;5;124mw\u001b[39m\u001b[38;5;124m'\u001b[39m, newline\u001b[38;5;241m=\u001b[39m\u001b[38;5;124m'\u001b[39m\u001b[38;5;124m'\u001b[39m, encoding\u001b[38;5;241m=\u001b[39m\u001b[38;5;124m'\u001b[39m\u001b[38;5;124mutf-8\u001b[39m\u001b[38;5;124m'\u001b[39m) \u001b[38;5;28;01mas\u001b[39;00m file:\n",
      "File \u001b[0;32m~/anaconda3/envs/myenv/lib/python3.9/os.py:215\u001b[0m, in \u001b[0;36mmakedirs\u001b[0;34m(name, mode, exist_ok)\u001b[0m\n\u001b[1;32m    213\u001b[0m \u001b[38;5;28;01mif\u001b[39;00m head \u001b[38;5;129;01mand\u001b[39;00m tail \u001b[38;5;129;01mand\u001b[39;00m \u001b[38;5;129;01mnot\u001b[39;00m path\u001b[38;5;241m.\u001b[39mexists(head):\n\u001b[1;32m    214\u001b[0m     \u001b[38;5;28;01mtry\u001b[39;00m:\n\u001b[0;32m--> 215\u001b[0m         \u001b[43mmakedirs\u001b[49m\u001b[43m(\u001b[49m\u001b[43mhead\u001b[49m\u001b[43m,\u001b[49m\u001b[43m \u001b[49m\u001b[43mexist_ok\u001b[49m\u001b[38;5;241;43m=\u001b[39;49m\u001b[43mexist_ok\u001b[49m\u001b[43m)\u001b[49m\n\u001b[1;32m    216\u001b[0m     \u001b[38;5;28;01mexcept\u001b[39;00m \u001b[38;5;167;01mFileExistsError\u001b[39;00m:\n\u001b[1;32m    217\u001b[0m         \u001b[38;5;66;03m# Defeats race condition when another thread created the path\u001b[39;00m\n\u001b[1;32m    218\u001b[0m         \u001b[38;5;28;01mpass\u001b[39;00m\n",
      "File \u001b[0;32m~/anaconda3/envs/myenv/lib/python3.9/os.py:225\u001b[0m, in \u001b[0;36mmakedirs\u001b[0;34m(name, mode, exist_ok)\u001b[0m\n\u001b[1;32m    223\u001b[0m         \u001b[38;5;28;01mreturn\u001b[39;00m\n\u001b[1;32m    224\u001b[0m \u001b[38;5;28;01mtry\u001b[39;00m:\n\u001b[0;32m--> 225\u001b[0m     \u001b[43mmkdir\u001b[49m\u001b[43m(\u001b[49m\u001b[43mname\u001b[49m\u001b[43m,\u001b[49m\u001b[43m \u001b[49m\u001b[43mmode\u001b[49m\u001b[43m)\u001b[49m\n\u001b[1;32m    226\u001b[0m \u001b[38;5;28;01mexcept\u001b[39;00m \u001b[38;5;167;01mOSError\u001b[39;00m:\n\u001b[1;32m    227\u001b[0m     \u001b[38;5;66;03m# Cannot rely on checking for EEXIST, since the operating system\u001b[39;00m\n\u001b[1;32m    228\u001b[0m     \u001b[38;5;66;03m# could give priority to other errors like EACCES or EROFS\u001b[39;00m\n\u001b[1;32m    229\u001b[0m     \u001b[38;5;28;01mif\u001b[39;00m \u001b[38;5;129;01mnot\u001b[39;00m exist_ok \u001b[38;5;129;01mor\u001b[39;00m \u001b[38;5;129;01mnot\u001b[39;00m path\u001b[38;5;241m.\u001b[39misdir(name):\n",
      "\u001b[0;31mFileNotFoundError\u001b[0m: [Errno 2] No such file or directory: 'clip_dataset'"
     ]
    }
   ],
   "source": [
    "\n",
    "# 必要なライブラリのインポートは同じなので省略\n",
    "import os\n",
    "import csv\n",
    "import time\n",
    "from selenium import webdriver\n",
    "from selenium.webdriver.common.by import By\n",
    "from selenium.webdriver.chrome.service import Service\n",
    "from selenium.webdriver.support.ui import WebDriverWait\n",
    "from selenium.webdriver.support import expected_conditions as EC\n",
    "from webdriver_manager.chrome import ChromeDriverManager\n",
    "\n",
    "from selenium.webdriver.support import expected_conditions as EC\n",
    "from selenium.webdriver.support.ui import WebDriverWait\n",
    "\n",
    "\n",
    "def setup_dataset_directory(base_dir=\"clip_dataset\"):\n",
    "    images_dir = os.path.join(base_dir, \"images\")\n",
    "    os.makedirs(images_dir, exist_ok=True)\n",
    "    csv_file_path = os.path.join(base_dir, \"dataset.csv\")\n",
    "    with open(csv_file_path, 'w', newline='', encoding='utf-8') as file:\n",
    "        writer = csv.writer(file)\n",
    "        writer.writerow([\"image_filename\", \"text_description\", \"button_texts\"])\n",
    "    return images_dir, csv_file_path\n",
    "\n",
    "def append_to_csv(csv_file_path, image_filename, text_description, button_texts):\n",
    "    with open(csv_file_path, 'a', newline='', encoding='utf-8') as file:\n",
    "        writer = csv.writer(file)\n",
    "        writer.writerow([image_filename, text_description, \"|\".join(button_texts)])\n",
    "        \n",
    "def main():\n",
    "    images_dir, csv_file_path = setup_dataset_directory()\n",
    "    driver = webdriver.Chrome(service=Service(ChromeDriverManager().install()))\n",
    "\n",
    "    try:\n",
    "        for i in range(1, 100):  # デモとして100回のタスクを実行\n",
    "            driver.get(\"http://localhost:8000/miniwob/html/miniwob/count-shape.html\")\n",
    "            WebDriverWait(driver, 10).until(EC.element_to_be_clickable((By.TAG_NAME, 'body')))\n",
    "            \n",
    "         \n",
    "\n",
    "\n",
    "             \n",
    "            time.sleep(1)\n",
    "            \n",
    "            WebDriverWait(driver, 10).until(\n",
    "                EC.visibility_of_element_located((By.ID, \"query\"))\n",
    "            )\n",
    "            text_description = driver.find_element(By.ID, \"query\").text\n",
    "            \n",
    "            WebDriverWait(driver, 10).until(\n",
    "                EC.presence_of_all_elements_located((By.CSS_SELECTOR, \"#count-buttons button\"))\n",
    "            )\n",
    "            buttons = driver.find_elements(By.CSS_SELECTOR, \"#count-buttons button\")\n",
    "            button_texts = [button.text for button in buttons]\n",
    "\n",
    "            svg_element = driver.find_element(By.ID, \"area_svg\")\n",
    "            image_filename = f\"image_{i:04}.png\"\n",
    "            image_path = os.path.join(images_dir, image_filename)\n",
    "            svg_element.screenshot(image_path)\n",
    "\n",
    "            append_to_csv(csv_file_path, image_filename, text_description, ' '.join(button_texts))\n",
    "\n",
    "    finally:\n",
    "        driver.quit()\n",
    "\n",
    "if __name__ == \"__main__\":\n",
    "    main()\n"
   ]
  },
  {
   "cell_type": "markdown",
   "metadata": {},
   "source": [
    "下記は自動化コードだが、assert observation[\"utterance\"] == text_descriptionの処理がうまくういかず、強制終了してしまうため一時コメントアウト"
   ]
  },
  {
   "cell_type": "code",
   "execution_count": 10,
   "metadata": {},
   "outputs": [
    {
     "ename": "NameError",
     "evalue": "name 'driver' is not defined",
     "output_type": "error",
     "traceback": [
      "\u001b[0;31m---------------------------------------------------------------------------\u001b[0m",
      "\u001b[0;31mNameError\u001b[0m                                 Traceback (most recent call last)",
      "Cell \u001b[0;32mIn[10], line 115\u001b[0m\n\u001b[1;32m    107\u001b[0m         driver\u001b[38;5;241m.\u001b[39mquit()\n\u001b[1;32m    114\u001b[0m \u001b[38;5;28;01mif\u001b[39;00m \u001b[38;5;18m__name__\u001b[39m \u001b[38;5;241m==\u001b[39m \u001b[38;5;124m\"\u001b[39m\u001b[38;5;124m__main__\u001b[39m\u001b[38;5;124m\"\u001b[39m:\n\u001b[0;32m--> 115\u001b[0m     \u001b[43mmain\u001b[49m\u001b[43m(\u001b[49m\u001b[43m)\u001b[49m\n",
      "Cell \u001b[0;32mIn[10], line 101\u001b[0m, in \u001b[0;36mmain\u001b[0;34m()\u001b[0m\n\u001b[1;32m     98\u001b[0m append_to_csv(csv_file_path, image_filename, text_description, button_texts)\n\u001b[1;32m    100\u001b[0m \u001b[38;5;66;03m# MiniWoBタスクを実行\u001b[39;00m\n\u001b[0;32m--> 101\u001b[0m \u001b[43mrun_miniwob_task\u001b[49m\u001b[43m(\u001b[49m\u001b[43mtext_description\u001b[49m\u001b[43m,\u001b[49m\u001b[43m \u001b[49m\u001b[43mbutton_texts\u001b[49m\u001b[43m)\u001b[49m\n\u001b[1;32m    103\u001b[0m \u001b[38;5;66;03m# タスク間の適切な待機時間を設定（必要に応じて）\u001b[39;00m\n\u001b[1;32m    104\u001b[0m time\u001b[38;5;241m.\u001b[39msleep(\u001b[38;5;241m1\u001b[39m)\n",
      "Cell \u001b[0;32mIn[10], line 21\u001b[0m, in \u001b[0;36mrun_miniwob_task\u001b[0;34m(text_description, button_texts)\u001b[0m\n\u001b[1;32m     19\u001b[0m \u001b[38;5;28;01mtry\u001b[39;00m:\n\u001b[1;32m     20\u001b[0m     observation, info \u001b[38;5;241m=\u001b[39m env\u001b[38;5;241m.\u001b[39mreset()\n\u001b[0;32m---> 21\u001b[0m     text_description \u001b[38;5;241m=\u001b[39m \u001b[43mdriver\u001b[49m\u001b[38;5;241m.\u001b[39mfind_element(By\u001b[38;5;241m.\u001b[39mID, \u001b[38;5;124m\"\u001b[39m\u001b[38;5;124mquery\u001b[39m\u001b[38;5;124m\"\u001b[39m)\u001b[38;5;241m.\u001b[39mtext\n\u001b[1;32m     22\u001b[0m     \u001b[38;5;28;01massert\u001b[39;00m observation[\u001b[38;5;124m\"\u001b[39m\u001b[38;5;124mutterance\u001b[39m\u001b[38;5;124m\"\u001b[39m] \u001b[38;5;241m==\u001b[39m text_description\n\u001b[1;32m     23\u001b[0m     buttons \u001b[38;5;241m=\u001b[39m driver\u001b[38;5;241m.\u001b[39mfind_elements(By\u001b[38;5;241m.\u001b[39mCSS_SELECTOR, \u001b[38;5;124m\"\u001b[39m\u001b[38;5;124mcount-buttons\u001b[39m\u001b[38;5;124m\"\u001b[39m)\n",
      "\u001b[0;31mNameError\u001b[0m: name 'driver' is not defined"
     ]
    }
   ],
   "source": [
    "# import os\n",
    "# import csv\n",
    "# import time\n",
    "# from selenium import webdriver\n",
    "# from selenium.webdriver.common.by import By\n",
    "# from selenium.webdriver.chrome.service import Service\n",
    "# from webdriver_manager.chrome import ChromeDriverManager\n",
    "# import gymnasium\n",
    "# import time\n",
    "# import gymnasium\n",
    "# from miniwob.action import ActionTypes\n",
    "\n",
    "\n",
    "\n",
    "# env = gymnasium.make('miniwob/count-shape', render_mode='human')\n",
    "# # MiniWoBのタスクを実行する関数\n",
    "# def run_miniwob_task(text_description, button_texts):\n",
    "#     env = gymnasium.make('miniwob/count-shape', render_mode='human')\n",
    "#     try:\n",
    "#         observation, info = env.reset()\n",
    "#         text_description = driver.find_element(By.ID, \"query\").text\n",
    "#         assert observation[\"utterance\"] == text_description\n",
    "#         buttons = driver.find_elements(By.CSS_SELECTOR, \"count-buttons\")\n",
    "#         button_texts = [button.text for button in buttons]\n",
    "#         assert observation[\"fields\"] == ((\"target\", \"#count-buttons button\"),)\n",
    "  \n",
    "  \n",
    "#         # 環境を確認するための一時停止\n",
    "#         time.sleep(2)\n",
    "\n",
    "\n",
    "\n",
    "#         target_element = None\n",
    "        \n",
    "#         for element in observation[\"dom_elements\"]:\n",
    "#             if element[\"text\"] in button_texts:\n",
    "#                 target_element = element\n",
    "#                 break\n",
    "\n",
    "#         if target_element is not None:\n",
    "#             # 要素をクリックするアクションを作成\n",
    "#             action = env.unwrapped.create_action(ActionTypes.CLICK_ELEMENT, ref=target_element[\"ref\"])\n",
    "#             observation, reward, terminated, truncated, info = env.step(action)\n",
    "\n",
    "#             # アクションの結果を確認\n",
    "#             print(f\"Reward: {reward}\")\n",
    "#             assert terminated is True\n",
    "#         else:\n",
    "#             print(\"Target element not found.\")\n",
    "\n",
    "#         time.sleep(2)  # 結果を確認するための一時停止\n",
    "#     finally:\n",
    "#         env.close()\n",
    "\n",
    "\n",
    "# # データセットディレクトリのセットアップ\n",
    "# def setup_dataset_directory(base_dir=\"clip_dataset\"):\n",
    "#     images_dir = os.path.join(base_dir, \"images\")\n",
    "#     os.makedirs(images_dir, exist_ok=True)\n",
    "#     csv_file_path = os.path.join(base_dir, \"dataset.csv\")\n",
    "#     with open(csv_file_path, 'w', newline='', encoding='utf-8') as file:\n",
    "#         writer = csv.writer(file)\n",
    "#         writer.writerow([\"image_filename\", \"text_description\", \"button_texts\"])\n",
    "#     return images_dir, csv_file_path\n",
    "\n",
    "# # CSVファイルへの追記\n",
    "# def append_to_csv(csv_file_path, image_filename, text_description, button_texts):\n",
    "#     with open(csv_file_path, 'a', newline='', encoding='utf-8') as file:\n",
    "#         writer = csv.writer(file)\n",
    "#         writer.writerow([image_filename, text_description, \"|\".join(button_texts)])\n",
    "\n",
    "# def main():\n",
    "#     images_dir, csv_file_path = setup_dataset_directory()\n",
    "#     driver = webdriver.Chrome(service=Service(ChromeDriverManager().install()))\n",
    "\n",
    "#     try:\n",
    "#         for i in range(1, 101):  # 1から100までの範囲でループ\n",
    "#             driver.get(\"http://localhost:8000/miniwob/html/miniwob/count-shape.html\")\n",
    "#             WebDriverWait(driver, 10).until(EC.element_to_be_clickable((By.TAG_NAME, 'body')))\n",
    "            \n",
    "#             # ここでSeleniumを使用してWebページから情報を取得\n",
    "#             text_description = driver.find_element(By.ID, \"query\").text\n",
    "#             buttons = driver.find_elements(By.CSS_SELECTOR, \"#count-buttons button\")\n",
    "#             button_texts = [button.text for button in buttons]\n",
    "\n",
    "#             # SVGエレメントのスクリーンショットを取得\n",
    "#             # イテレーションごとに異なるファイル名を生成\n",
    "#             svg_element = driver.find_element(By.ID, \"area_svg\")\n",
    "#             image_filename = f\"image_{i:04}.png\"\n",
    "#             image_path = os.path.join(images_dir, image_filename)\n",
    "#             svg_element.screenshot(image_path)\n",
    "\n",
    "#             # CSVに情報を追記\n",
    "#             append_to_csv(csv_file_path, image_filename, text_description, button_texts)\n",
    "\n",
    "#             # MiniWoBタスクを実行\n",
    "#             run_miniwob_task(text_description, button_texts)\n",
    "\n",
    "#             # タスク間の適切な待機時間を設定（必要に応じて）\n",
    "#             time.sleep(1)\n",
    "\n",
    "#     finally:\n",
    "#         driver.quit()\n",
    "\n",
    "        \n",
    "        \n",
    "        \n",
    "        \n",
    "\n",
    "# if __name__ == \"__main__\":\n",
    "#     main()\n"
   ]
  },
  {
   "cell_type": "code",
   "execution_count": null,
   "metadata": {},
   "outputs": [],
   "source": [
    "def main():\n",
    "    images_dir, csv_file_path = setup_dataset_directory()\n",
    "    driver = webdriver.Chrome(service=Service(ChromeDriverManager().install()))\n",
    "\n",
    "    try:\n",
    "        for i in range(1, 101):  # 1から100までの範囲でループ\n",
    "            driver.get(\"http://localhost:8000/miniwob/html/miniwob/count-shape.html\")\n",
    "            WebDriverWait(driver, 10).until(EC.element_to_be_clickable((By.TAG_NAME, 'body')))\n",
    "            \n",
    "            # ここでSeleniumを使用してWebページから情報を取得\n",
    "            text_description = driver.find_element(By.ID, \"query\").text\n",
    "            buttons = driver.find_elements(By.CSS_SELECTOR, \"#count-buttons button\")\n",
    "            button_texts = [button.text for button in buttons]\n",
    "\n",
    "            # SVGエレメントのスクリーンショットを取得\n",
    "            # イテレーションごとに異なるファイル名を生成\n",
    "            image_filename = f\"image_{i:04}.png\"\n",
    "            image_path = os.path.join(images_dir, image_filename)\n",
    "            svg_element.screenshot(image_path)\n",
    "\n",
    "            # CSVに情報を追記\n",
    "            append_to_csv(csv_file_path, image_filename, text_description, button_texts)\n",
    "\n",
    "            # MiniWoBタスクを実行\n",
    "            run_miniwob_task(text_description, button_texts)\n",
    "\n",
    "            # タスク間の適切な待機時間を設定（必要に応じて）\n",
    "            time.sleep(1)\n",
    "\n",
    "    finally:\n",
    "        driver.quit()\n"
   ]
  }
 ],
 "metadata": {
  "kernelspec": {
   "display_name": "myenv",
   "language": "python",
   "name": "python3"
  },
  "language_info": {
   "codemirror_mode": {
    "name": "ipython",
    "version": 3
   },
   "file_extension": ".py",
   "mimetype": "text/x-python",
   "name": "python",
   "nbconvert_exporter": "python",
   "pygments_lexer": "ipython3",
   "version": "3.9.18"
  }
 },
 "nbformat": 4,
 "nbformat_minor": 2
}
