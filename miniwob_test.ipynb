{
 "cells": [
  {
   "cell_type": "code",
   "execution_count": 1,
   "metadata": {},
   "outputs": [
    {
     "data": {
      "text/plain": [
       "'/home/kako/Final_Assignment-1'"
      ]
     },
     "execution_count": 1,
     "metadata": {},
     "output_type": "execute_result"
    }
   ],
   "source": [
    "pwd()"
   ]
  },
  {
   "cell_type": "code",
   "execution_count": 2,
   "metadata": {},
   "outputs": [
    {
     "name": "stdout",
     "output_type": "stream",
     "text": [
      "How many magenta circles are there?\n",
      "(('color', 'magenta'), ('target', 'circle'))\n"
     ]
    }
   ],
   "source": [
    "print(observation[\"utterance\"])\n",
    "print(observation[\"fields\"])\n"
   ]
  },
  {
   "cell_type": "code",
   "execution_count": 1,
   "metadata": {},
   "outputs": [
    {
     "name": "stdout",
     "output_type": "stream",
     "text": [
      "Requirement already satisfied: miniwob in /home/kako/anaconda3/envs/myenv/lib/python3.9/site-packages (1.0)\n",
      "Requirement already satisfied: Gymnasium==0.29.0 in /home/kako/anaconda3/envs/myenv/lib/python3.9/site-packages (from miniwob) (0.29.0)\n",
      "Requirement already satisfied: Pillow>=9.0.0 in /home/kako/anaconda3/envs/myenv/lib/python3.9/site-packages (from miniwob) (10.2.0)\n",
      "Requirement already satisfied: selenium>=4.5.0 in /home/kako/anaconda3/envs/myenv/lib/python3.9/site-packages (from miniwob) (4.17.2)\n",
      "Requirement already satisfied: numpy>=1.18.0 in /home/kako/anaconda3/envs/myenv/lib/python3.9/site-packages (from miniwob) (1.26.3)\n",
      "Requirement already satisfied: farama-notifications>=0.0.1 in /home/kako/anaconda3/envs/myenv/lib/python3.9/site-packages (from miniwob) (0.0.4)\n",
      "Requirement already satisfied: cloudpickle>=1.2.0 in /home/kako/anaconda3/envs/myenv/lib/python3.9/site-packages (from Gymnasium==0.29.0->miniwob) (3.0.0)\n",
      "Requirement already satisfied: typing-extensions>=4.3.0 in /home/kako/anaconda3/envs/myenv/lib/python3.9/site-packages (from Gymnasium==0.29.0->miniwob) (4.9.0)\n",
      "Requirement already satisfied: importlib-metadata>=4.8.0 in /home/kako/anaconda3/envs/myenv/lib/python3.9/site-packages (from Gymnasium==0.29.0->miniwob) (7.0.1)\n",
      "Requirement already satisfied: urllib3<3,>=1.26 in /home/kako/anaconda3/envs/myenv/lib/python3.9/site-packages (from urllib3[socks]<3,>=1.26->selenium>=4.5.0->miniwob) (2.2.0)\n",
      "Requirement already satisfied: trio~=0.17 in /home/kako/anaconda3/envs/myenv/lib/python3.9/site-packages (from selenium>=4.5.0->miniwob) (0.24.0)\n",
      "Requirement already satisfied: trio-websocket~=0.9 in /home/kako/anaconda3/envs/myenv/lib/python3.9/site-packages (from selenium>=4.5.0->miniwob) (0.11.1)\n",
      "Requirement already satisfied: certifi>=2021.10.8 in /home/kako/anaconda3/envs/myenv/lib/python3.9/site-packages (from selenium>=4.5.0->miniwob) (2023.11.17)\n",
      "Requirement already satisfied: zipp>=0.5 in /home/kako/anaconda3/envs/myenv/lib/python3.9/site-packages (from importlib-metadata>=4.8.0->Gymnasium==0.29.0->miniwob) (3.17.0)\n",
      "Requirement already satisfied: attrs>=20.1.0 in /home/kako/anaconda3/envs/myenv/lib/python3.9/site-packages (from trio~=0.17->selenium>=4.5.0->miniwob) (23.2.0)\n",
      "Requirement already satisfied: sortedcontainers in /home/kako/anaconda3/envs/myenv/lib/python3.9/site-packages (from trio~=0.17->selenium>=4.5.0->miniwob) (2.4.0)\n",
      "Requirement already satisfied: idna in /home/kako/anaconda3/envs/myenv/lib/python3.9/site-packages (from trio~=0.17->selenium>=4.5.0->miniwob) (3.6)\n",
      "Requirement already satisfied: outcome in /home/kako/anaconda3/envs/myenv/lib/python3.9/site-packages (from trio~=0.17->selenium>=4.5.0->miniwob) (1.3.0.post0)\n",
      "Requirement already satisfied: sniffio>=1.3.0 in /home/kako/anaconda3/envs/myenv/lib/python3.9/site-packages (from trio~=0.17->selenium>=4.5.0->miniwob) (1.3.0)\n",
      "Requirement already satisfied: exceptiongroup in /home/kako/anaconda3/envs/myenv/lib/python3.9/site-packages (from trio~=0.17->selenium>=4.5.0->miniwob) (1.2.0)\n",
      "Requirement already satisfied: wsproto>=0.14 in /home/kako/anaconda3/envs/myenv/lib/python3.9/site-packages (from trio-websocket~=0.9->selenium>=4.5.0->miniwob) (1.2.0)\n",
      "Requirement already satisfied: pysocks!=1.5.7,<2.0,>=1.5.6 in /home/kako/anaconda3/envs/myenv/lib/python3.9/site-packages (from urllib3[socks]<3,>=1.26->selenium>=4.5.0->miniwob) (1.7.1)\n",
      "Requirement already satisfied: h11<1,>=0.9.0 in /home/kako/anaconda3/envs/myenv/lib/python3.9/site-packages (from wsproto>=0.14->trio-websocket~=0.9->selenium>=4.5.0->miniwob) (0.14.0)\n"
     ]
    }
   ],
   "source": [
    "!pip install miniwob"
   ]
  },
  {
   "cell_type": "code",
   "execution_count": null,
   "metadata": {},
   "outputs": [],
   "source": []
  },
  {
   "cell_type": "code",
   "execution_count": 4,
   "metadata": {},
   "outputs": [
    {
     "name": "stderr",
     "output_type": "stream",
     "text": [
      "/home/kako/miniwob-plusplus/.conda/lib/python3.12/site-packages/gymnasium/envs/registration.py:521: UserWarning: \u001b[33mWARN: Using the latest versioned environment `miniwob/count-shape-v1` instead of the unversioned environment `miniwob/count-shape`.\u001b[0m\n",
      "  logger.warn(\n"
     ]
    },
    {
     "ename": "AssertionError",
     "evalue": "",
     "output_type": "error",
     "traceback": [
      "\u001b[0;31m---------------------------------------------------------------------------\u001b[0m",
      "\u001b[0;31mAssertionError\u001b[0m                            Traceback (most recent call last)",
      "Cell \u001b[0;32mIn[4], line 11\u001b[0m\n\u001b[1;32m      8\u001b[0m \u001b[38;5;28;01mtry\u001b[39;00m:\n\u001b[1;32m      9\u001b[0m   \u001b[38;5;66;03m# Start a new episode.\u001b[39;00m\n\u001b[1;32m     10\u001b[0m   observation, info \u001b[38;5;241m=\u001b[39m env\u001b[38;5;241m.\u001b[39mreset()\n\u001b[0;32m---> 11\u001b[0m   \u001b[38;5;28;01massert\u001b[39;00m observation[\u001b[38;5;124m\"\u001b[39m\u001b[38;5;124mutterance\u001b[39m\u001b[38;5;124m\"\u001b[39m] \u001b[38;5;241m==\u001b[39m \u001b[38;5;124m\"\u001b[39m\u001b[38;5;124mHow many ds are there.\u001b[39m\u001b[38;5;124m\"\u001b[39m\n\u001b[1;32m     12\u001b[0m   \u001b[38;5;28;01massert\u001b[39;00m observation[\u001b[38;5;124m\"\u001b[39m\u001b[38;5;124mfields\u001b[39m\u001b[38;5;124m\"\u001b[39m] \u001b[38;5;241m==\u001b[39m ((\u001b[38;5;124m\"\u001b[39m\u001b[38;5;124md\u001b[39m\u001b[38;5;124m\"\u001b[39m),)\n\u001b[1;32m     13\u001b[0m   time\u001b[38;5;241m.\u001b[39msleep(\u001b[38;5;241m2\u001b[39m)       \u001b[38;5;66;03m# Only here to let you look at the environment.\u001b[39;00m\n",
      "\u001b[0;31mAssertionError\u001b[0m: "
     ]
    }
   ],
   "source": [
    "import time\n",
    "import gymnasium\n",
    "from miniwob.action import ActionTypes\n",
    "\n",
    "env = gymnasium.make('miniwob/count-shape', render_mode='human')\n",
    "\n",
    "# Wrap the code in try-finally to ensure proper cleanup.\n",
    "try:\n",
    "  # Start a new episode.\n",
    "  observation, info = env.reset()\n",
    "  assert observation[\"utterance\"] == \"How many ds are there.\"\n",
    "  assert observation[\"fields\"] == ((\"d\"),)\n",
    "  time.sleep(2)       # Only here to let you look at the environment.\n",
    "  \n",
    "  # Find the HTML element with text \"ONE\".\n",
    "  for element in observation[\"dom_elements\"]:\n",
    "    if element[\"text\"] == \"ONE\":\n",
    "      break\n",
    "\n",
    "  # Click on the element.\n",
    "  action = env.unwrapped.create_action(ActionTypes.CLICK_ELEMENT, ref=element[\"ref\"])\n",
    "  observation, reward, terminated, truncated, info = env.step(action)\n",
    "\n",
    "  # Check if the action was correct. \n",
    "  print(reward)      # Should be around 0.8 since 2 seconds has passed.\n",
    "  assert terminated is True\n",
    "  time.sleep(2)\n",
    "\n",
    "finally:\n",
    "  env.close()"
   ]
  }
 ],
 "metadata": {
  "kernelspec": {
   "display_name": "Python 3",
   "language": "python",
   "name": "python3"
  },
  "language_info": {
   "codemirror_mode": {
    "name": "ipython",
    "version": 3
   },
   "file_extension": ".py",
   "mimetype": "text/x-python",
   "name": "python",
   "nbconvert_exporter": "python",
   "pygments_lexer": "ipython3",
   "version": "3.9.18"
  }
 },
 "nbformat": 4,
 "nbformat_minor": 2
}
